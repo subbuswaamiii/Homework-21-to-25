{
  "nbformat": 4,
  "nbformat_minor": 0,
  "metadata": {
    "colab": {
      "provenance": []
    },
    "kernelspec": {
      "name": "python3",
      "display_name": "Python 3"
    },
    "language_info": {
      "name": "python"
    }
  },
  "cells": [
    {
      "cell_type": "code",
      "execution_count": null,
      "metadata": {
        "id": "GlYxYwAWbCEV"
      },
      "outputs": [],
      "source": []
    },
    {
      "cell_type": "markdown",
      "source": [
        "**Question 1 - What is the difference between enclosing a list comprehension in square brackets and parentheses?**"
      ],
      "metadata": {
        "id": "UDe_nPu2bXJU"
      }
    },
    {
      "cell_type": "markdown",
      "source": [
        "**Answer 1 -**"
      ],
      "metadata": {
        "id": "RcIvY6R3bbav"
      }
    },
    {
      "cell_type": "code",
      "source": [
        "list1 = [character for character in [1, 2, 3]]\n",
        "list1"
      ],
      "metadata": {
        "colab": {
          "base_uri": "https://localhost:8080/"
        },
        "id": "H-fAhioxbmEa",
        "outputId": "94e5e7fe-8a38-45dc-e845-5b046e34106d"
      },
      "execution_count": 3,
      "outputs": [
        {
          "output_type": "execute_result",
          "data": {
            "text/plain": [
              "[1, 2, 3]"
            ]
          },
          "metadata": {},
          "execution_count": 3
        }
      ]
    },
    {
      "cell_type": "code",
      "source": [
        "list2 = (character for character in [1, 2, 3])\n",
        "list2"
      ],
      "metadata": {
        "colab": {
          "base_uri": "https://localhost:8080/"
        },
        "id": "LHodXZdSbsZO",
        "outputId": "262049a7-638b-41a4-feb3-ccd7cc1563e0"
      },
      "execution_count": 4,
      "outputs": [
        {
          "output_type": "execute_result",
          "data": {
            "text/plain": [
              "<generator object <genexpr> at 0x7fae96a67c10>"
            ]
          },
          "metadata": {},
          "execution_count": 4
        }
      ]
    },
    {
      "cell_type": "markdown",
      "source": [
        "From above codes, \n",
        "**list1 is list comprehension** executes each elememt along with the FOR Loop to iterate over each element in python List.\n",
        "\n",
        "**list 2 is generator expression,**  Instead of creating a list and keeping the whole sequence in the memory, the generator generates the next element in demand.\n",
        "\n",
        "\n",
        "The **generator expression** yields one item at a time and generates item only when in demand. \n",
        "\n",
        "Whereas, in a **list comprehension**, Python reserves memory for the whole list. Thus we can say that the generator expressions are memory efficient than the lists."
      ],
      "metadata": {
        "id": "G3h9VO23cSKM"
      }
    },
    {
      "cell_type": "code",
      "source": [
        "####################################################################################################################################################################################"
      ],
      "metadata": {
        "id": "_O8SwM7Cgchq"
      },
      "execution_count": null,
      "outputs": []
    },
    {
      "cell_type": "markdown",
      "source": [
        "**Question 2 - What is the relationship between generators and iterators?**"
      ],
      "metadata": {
        "id": "YK9gf3OOfMMW"
      }
    },
    {
      "cell_type": "markdown",
      "source": [
        "**Answer 2 -**\n",
        "\n",
        "\n",
        "1. Every iterator is not a generator, Every generator is an iterator\n",
        "2. Iterator uses iter() and next() functions , Generator uses yield keyword\n",
        "\n",
        "**Iterator**\n",
        "An iterator is an object which contains a countable number of values and it is used to iterate over iterable objects like list, tuples, sets, etc."
      ],
      "metadata": {
        "id": "bBxMYbCXfu9c"
      }
    },
    {
      "cell_type": "code",
      "source": [
        "iter_list = iter(['Geeks', 'For', 'Geeks'])\n",
        "print(next(iter_list))\n",
        "print(next(iter_list))\n",
        "print(next(iter_list))\n"
      ],
      "metadata": {
        "colab": {
          "base_uri": "https://localhost:8080/"
        },
        "id": "jpnlo2uxbyMz",
        "outputId": "27035168-7199-4c3c-a82d-25c4d4d33d77"
      },
      "execution_count": 5,
      "outputs": [
        {
          "output_type": "stream",
          "name": "stdout",
          "text": [
            "Geeks\n",
            "For\n",
            "Geeks\n"
          ]
        }
      ]
    },
    {
      "cell_type": "markdown",
      "source": [
        "**Generators**\n",
        "It is another way of creating iterators in a simple way where it uses the keyword “yield” instead of returning it in a defined function. Generators are implemented using a function."
      ],
      "metadata": {
        "id": "BynQv38bgVbr"
      }
    },
    {
      "cell_type": "code",
      "source": [
        "def sq_numbers(n):\n",
        "\tfor i in range(1, n+1):\n",
        "\t\tyield i*i\n",
        "\n",
        "\n",
        "a = sq_numbers(3)\n",
        "\n",
        "print(\"The square of numbers 1,2,3 are : \")\n",
        "print(next(a))\n",
        "print(next(a))\n",
        "print(next(a))\n"
      ],
      "metadata": {
        "colab": {
          "base_uri": "https://localhost:8080/"
        },
        "id": "ITYH24wEgSJL",
        "outputId": "2fed832e-5925-4c9c-f458-e305356b8fd9"
      },
      "execution_count": 6,
      "outputs": [
        {
          "output_type": "stream",
          "name": "stdout",
          "text": [
            "The square of numbers 1,2,3 are : \n",
            "1\n",
            "4\n",
            "9\n"
          ]
        }
      ]
    },
    {
      "cell_type": "code",
      "source": [
        "####################################################################################################################################################################################"
      ],
      "metadata": {
        "id": "ohNkt_stgXka"
      },
      "execution_count": null,
      "outputs": []
    },
    {
      "cell_type": "markdown",
      "source": [
        "**Question 3 - What are the signs that a function is a generator function?**"
      ],
      "metadata": {
        "id": "lIpIP5CdgidI"
      }
    },
    {
      "cell_type": "markdown",
      "source": [
        "**Answer 3 -**\n",
        "\n",
        "In general function uses **'return'** keyword to return output value.\n",
        "If function contains **'yield' keywords**, it means that that function** is Generator function**, which creates **generator object** and stores entire output in memory and next() is used to call next element iterable generator object\n",
        "\n"
      ],
      "metadata": {
        "id": "q0U7D2X8gonY"
      }
    },
    {
      "cell_type": "code",
      "source": [
        "def sq_numbers(n):\n",
        "\tfor i in range(1, n+1):\n",
        "\t\tyield i*i\n",
        "\n",
        "\n",
        "a = sq_numbers(3)\n",
        "print(a)\n",
        "\n",
        "\n"
      ],
      "metadata": {
        "colab": {
          "base_uri": "https://localhost:8080/"
        },
        "id": "lgFz9_Gghn_Q",
        "outputId": "1a346671-6c43-44e4-f542-31290f693e26"
      },
      "execution_count": 8,
      "outputs": [
        {
          "output_type": "stream",
          "name": "stdout",
          "text": [
            "<generator object sq_numbers at 0x7fae92560c80>\n"
          ]
        }
      ]
    },
    {
      "cell_type": "code",
      "source": [
        "print(\"The square of numbers 1,2,3 are : \")\n",
        "print(next(a))\n",
        "print(next(a))\n",
        "print(next(a))"
      ],
      "metadata": {
        "colab": {
          "base_uri": "https://localhost:8080/"
        },
        "id": "tk040Qzeho0e",
        "outputId": "62b621ca-7c71-42b6-e785-28489d81d9b2"
      },
      "execution_count": 9,
      "outputs": [
        {
          "output_type": "stream",
          "name": "stdout",
          "text": [
            "The square of numbers 1,2,3 are : \n",
            "1\n",
            "4\n",
            "9\n"
          ]
        }
      ]
    },
    {
      "cell_type": "code",
      "source": [
        "####################################################################################################################################################################################"
      ],
      "metadata": {
        "id": "Cl7DMGYmk6_K"
      },
      "execution_count": null,
      "outputs": []
    },
    {
      "cell_type": "markdown",
      "source": [
        "**Question 4- What is the purpose of a yield statement?**"
      ],
      "metadata": {
        "id": "-odLYjOuh3e1"
      }
    },
    {
      "cell_type": "markdown",
      "source": [
        "**Answer 4 -**\n",
        "\n",
        "\n",
        "**It is generally used to convert a regular Python function into a generator.** \n",
        "The yield statement suspends a function’s execution and sends a value back to the caller, but retains enough state to enable the function to resume where it left off. When the function resumes, it continues execution immediately after the last yield run. This allows its code to produce a series of values over time, rather than computing them at once and sending them back like a list."
      ],
      "metadata": {
        "id": "3hdmwFJSh9FL"
      }
    },
    {
      "cell_type": "code",
      "source": [
        "# A Simple Python program to demonstrate working\n",
        "# of yield\n",
        "\n",
        "# A generator function that yields 1 for the first time,\n",
        "# 2 second time and 3 third time\n",
        "\n",
        "\n",
        "def simpleGeneratorFun():\n",
        "\tyield 1\n",
        "\tyield 2\n",
        "\tyield 3\n",
        "\n",
        "obj = simpleGeneratorFun()\n",
        "\n",
        "print(type(obj))\n",
        "\n",
        "# Driver code to check above generator function\n",
        "for value in simpleGeneratorFun():\n",
        "\tprint(value)\n"
      ],
      "metadata": {
        "colab": {
          "base_uri": "https://localhost:8080/"
        },
        "id": "zgi4HPCrhwmF",
        "outputId": "204dffac-423b-45ba-c0be-a8017883cd62"
      },
      "execution_count": 11,
      "outputs": [
        {
          "output_type": "stream",
          "name": "stdout",
          "text": [
            "<class 'generator'>\n",
            "1\n",
            "2\n",
            "3\n"
          ]
        }
      ]
    },
    {
      "cell_type": "code",
      "source": [
        "####################################################################################################################################################################################"
      ],
      "metadata": {
        "id": "ho-52yavk9wu"
      },
      "execution_count": null,
      "outputs": []
    },
    {
      "cell_type": "markdown",
      "source": [
        "**Question 5- What is the relationship between map calls and list comprehensions? Make a comparison and contrast between the two.**"
      ],
      "metadata": {
        "id": "jsMh9rOejZaL"
      }
    },
    {
      "cell_type": "markdown",
      "source": [
        "**Answer 5 -**\n",
        "\n",
        "\n",
        "1. List comprehension is more concise and easier to read as compared to map.\n",
        "2. List comprehension allows filtering. In map, we have no such facility. For example, to print all even numbers in range of 100, we can write [n for n in range(100) if n%2 == 0]. There is no alternate for it in map\n",
        "3. List comprehension are used when a list of results is required as map only returns a map object and does not return any list.\n",
        "4. List comprehension is faster than map when we need to evaluate expressions that are too long or complicated to express\n",
        "5. Map is faster in case of calling an already defined function (as no lambda is required)."
      ],
      "metadata": {
        "id": "56JbgFs_jfvU"
      }
    },
    {
      "cell_type": "code",
      "source": [
        "####################################################################################################################################################################################"
      ],
      "metadata": {
        "id": "Wr7q-hhHk-kW"
      },
      "execution_count": null,
      "outputs": []
    }
  ]
}