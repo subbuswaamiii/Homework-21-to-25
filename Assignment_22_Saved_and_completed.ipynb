{
  "nbformat": 4,
  "nbformat_minor": 0,
  "metadata": {
    "colab": {
      "provenance": []
    },
    "kernelspec": {
      "name": "python3",
      "display_name": "Python 3"
    },
    "language_info": {
      "name": "python"
    }
  },
  "cells": [
    {
      "cell_type": "code",
      "execution_count": null,
      "metadata": {
        "id": "pelBbkxkSkZq"
      },
      "outputs": [],
      "source": []
    },
    {
      "cell_type": "markdown",
      "source": [
        "**ASSIGNMENT 22 :** "
      ],
      "metadata": {
        "id": "hcbKrPrlGpq3"
      }
    },
    {
      "cell_type": "markdown",
      "source": [
        "********************************************************************************************************************************************************************************************************************************************************************************************************************************\n",
        "\n",
        "**Question 1. What is the result of the code, and explain?**\n",
        "\n",
        "\n",
        ">>> X = 'iNeuron'\n",
        ">>> def func():\n",
        "print(X)\n",
        "\n",
        "\n",
        ">>> func()\n",
        "\n",
        "\n",
        "**Answer 1:**\n"
      ],
      "metadata": {
        "id": "s2jdXuueBo0S"
      }
    },
    {
      "cell_type": "code",
      "source": [
        "X = 'iNeuron'\n",
        "def func():\n",
        "  print(X)\n",
        "\n",
        "\n",
        "func()"
      ],
      "metadata": {
        "colab": {
          "base_uri": "https://localhost:8080/"
        },
        "id": "qnBUrBvfCFSP",
        "outputId": "e981a511-4eed-431c-8270-61303a550336"
      },
      "execution_count": null,
      "outputs": [
        {
          "output_type": "stream",
          "name": "stdout",
          "text": [
            "iNeuron\n"
          ]
        }
      ]
    },
    {
      "cell_type": "markdown",
      "source": [
        "Output = **iNeuron**\n",
        "\n",
        "Here X is  defined outside the function. Hence it is global variable for this program. In defined finction  fun(), print(X) is declared, it will return the value of X global variable. \n",
        "\n"
      ],
      "metadata": {
        "id": "Qbt-S7ZXCYxS"
      }
    },
    {
      "cell_type": "markdown",
      "source": [
        "********************************************************************************************************************************************************************************************************************************************************************************************************************************\n",
        "\n",
        "\n",
        "**Question 2. What is the result of the code, and explain?**\n",
        "\n",
        "\n",
        ">>> X = 'iNeuron'\n",
        ">>> def func():\n",
        "X = 'NI!'\n",
        "\n",
        "\n",
        ">>> func()\n",
        ">>> print(X)\n",
        "\n",
        "\n",
        "**Answer 2:**"
      ],
      "metadata": {
        "id": "LSCRlvbiBtrf"
      }
    },
    {
      "cell_type": "code",
      "source": [
        "X = 'iNeuron'\n",
        "def func():\n",
        "  X = 'NI!'\n",
        "\n",
        "\n",
        "func()\n",
        "print(X)"
      ],
      "metadata": {
        "colab": {
          "base_uri": "https://localhost:8080/"
        },
        "id": "eTpGr7scDHbq",
        "outputId": "32ff93aa-6e4b-4c47-984f-9d030ba0945e"
      },
      "execution_count": null,
      "outputs": [
        {
          "output_type": "stream",
          "name": "stdout",
          "text": [
            "iNeuron\n"
          ]
        }
      ]
    },
    {
      "cell_type": "markdown",
      "source": [
        "Output = **iNeuron**\n",
        "\n",
        "Here X is  defined outside the function. Hence it is global variable for this program. In defined finction  fun(), print(X) is not declared, but X value is declared as 'NI!'. In this case X global variable value X = 'iNeuron'. Hence print(X) statement outside the func() function prints the value  X = 'iNeuron'"
      ],
      "metadata": {
        "id": "dh5Q-K3XYXXs"
      }
    },
    {
      "cell_type": "markdown",
      "source": [
        "********************************************************************************************************************************************************************************************************************************************************************************************************************************\n",
        "\n",
        "**Question 3. What does this code print, and why?**\n",
        "\n",
        "\n",
        ">>> X = 'iNeuron'\n",
        ">>> def func():\n",
        "X = 'NI'\n",
        "print(X)\n",
        "\n",
        "\n",
        ">>> func()\n",
        ">>> print(X)\n",
        "\n",
        "**Answer 3:**"
      ],
      "metadata": {
        "id": "FfFiD1MzBuoH"
      }
    },
    {
      "cell_type": "code",
      "source": [
        "X = 'iNeuron'\n",
        "def func():\n",
        "  X = 'NI'\n",
        "  print(X)\n",
        "\n",
        "\n",
        "func()\n",
        "print(X)"
      ],
      "metadata": {
        "colab": {
          "base_uri": "https://localhost:8080/"
        },
        "id": "9rBV06jnEqfT",
        "outputId": "365cee47-db53-4f6b-b6a7-352e65ef37df"
      },
      "execution_count": null,
      "outputs": [
        {
          "output_type": "stream",
          "name": "stdout",
          "text": [
            "NI\n",
            "iNeuron\n"
          ]
        }
      ]
    },
    {
      "cell_type": "markdown",
      "source": [
        "**Output =** \n",
        "\n",
        "**NI**\n",
        "\n",
        "**iNeuron**\n",
        "\n",
        "\n",
        "\n",
        "\n",
        "Here , X = 'iNeuron' is global variable.\n",
        "\n",
        "\n",
        "In defined function func() , X = 'NI' is local variable which is defined in func() function, print(X) in defined function will print value X as 'NI'. and print(X) outside function call after calling func() will print value X as 'iNeuron'"
      ],
      "metadata": {
        "id": "IVz8EDHTZKVG"
      }
    },
    {
      "cell_type": "markdown",
      "source": [
        "********************************************************************************************************************************************************************************************************************************************************************************************************************************\n",
        "\n",
        "**Question 4. What output does this code produce? Why?**\n",
        "\n",
        "\n",
        ">>> X = 'iNeuron'\n",
        ">>> def func():\n",
        "global X\n",
        "X = 'NI'\n",
        "\n",
        "\n",
        ">>> func()\n",
        ">>> print(X)\n",
        "\n",
        "**Answer 4:**"
      ],
      "metadata": {
        "id": "nn4vWu5PBuut"
      }
    },
    {
      "cell_type": "code",
      "source": [
        "X = 'iNeuron'\n",
        "def func():\n",
        "  global X\n",
        "  X = 'NI'\n",
        "\n",
        "func()\n",
        "print(X)"
      ],
      "metadata": {
        "colab": {
          "base_uri": "https://localhost:8080/"
        },
        "id": "CoIUtcm6E1uH",
        "outputId": "f87109af-1e98-4a06-c135-b558668d822b"
      },
      "execution_count": null,
      "outputs": [
        {
          "output_type": "stream",
          "name": "stdout",
          "text": [
            "NI\n"
          ]
        }
      ]
    },
    {
      "cell_type": "markdown",
      "source": [
        "**Output =** \n",
        "\n",
        "**NI**\n",
        "\n",
        "\n",
        "\n",
        "\n",
        "\n",
        "\n",
        "Here , X = 'iNeuron' is global variable.\n",
        "\n",
        "\n",
        "In defined function func() , X = 'NI' declared as global variables  is defined in func() function. X value will be NI for this code.  \n",
        "\n",
        "print(X) outside function call after calling func() will print value X as 'NI'"
      ],
      "metadata": {
        "id": "Bk3QaQATaS9p"
      }
    },
    {
      "cell_type": "markdown",
      "source": [
        "********************************************************************************************************************************************************************************************************************************************************************************************************************************\n",
        "\n",
        "**Question 5. What about this code—what’s the output, and why?**\n",
        "\n",
        "\n",
        ">>> X = 'iNeuron'\n",
        ">>> def func():\n",
        "X = 'NI'\n",
        "def nested():\n",
        "print(X)\n",
        "nested()\n",
        "\n",
        "\n",
        ">>> func()\n",
        ">>> X\n",
        "\n",
        "**Answer 5:**"
      ],
      "metadata": {
        "id": "2o4BxqbNBux6"
      }
    },
    {
      "cell_type": "code",
      "source": [
        "X = 'iNeuron'\n",
        "def func():\n",
        "  X = 'NI'\n",
        "\n",
        "def nested():\n",
        "\n",
        "  print(X)\n",
        "nested()\n",
        "\n",
        "\n",
        "func()\n",
        "X"
      ],
      "metadata": {
        "colab": {
          "base_uri": "https://localhost:8080/",
          "height": 53
        },
        "id": "9tXNisEfE8b1",
        "outputId": "3093778f-123e-49c6-d945-8b46ddfdd93a"
      },
      "execution_count": null,
      "outputs": [
        {
          "output_type": "stream",
          "name": "stdout",
          "text": [
            "iNeuron\n"
          ]
        },
        {
          "output_type": "execute_result",
          "data": {
            "text/plain": [
              "'iNeuron'"
            ],
            "application/vnd.google.colaboratory.intrinsic+json": {
              "type": "string"
            }
          },
          "metadata": {},
          "execution_count": 8
        }
      ]
    },
    {
      "cell_type": "code",
      "source": [
        "X = 'iNeuron'"
      ],
      "metadata": {
        "id": "V7Mx7Vf2cQh5"
      },
      "execution_count": null,
      "outputs": []
    },
    {
      "cell_type": "code",
      "source": [
        "X"
      ],
      "metadata": {
        "colab": {
          "base_uri": "https://localhost:8080/",
          "height": 35
        },
        "id": "tLckhByAcSHL",
        "outputId": "640fb0d3-f2b2-4221-a30a-5076abcaec8e"
      },
      "execution_count": null,
      "outputs": [
        {
          "output_type": "execute_result",
          "data": {
            "text/plain": [
              "'iNeuron'"
            ],
            "application/vnd.google.colaboratory.intrinsic+json": {
              "type": "string"
            }
          },
          "metadata": {},
          "execution_count": 6
        }
      ]
    },
    {
      "cell_type": "markdown",
      "source": [
        "**Output =** \n",
        "\n",
        "**iNeuron**\n",
        "\n",
        "\n",
        "Here , X = 'iNeuron' is global variable.\n",
        "\n",
        "\n",
        "In defined function func() , X = 'NI' declared as global variables  is defined in func() function.  \n",
        "In defined function nested(), print(X) is declared which prints the value X = iNeuron\n",
        "\n",
        "func() function called, but there is no print statement hence will not give any output.\n",
        "\n",
        "After func() call, X is called will return string value of X 'iNeuron'\n"
      ],
      "metadata": {
        "id": "xg-HvvdbbHJf"
      }
    },
    {
      "cell_type": "markdown",
      "source": [
        "\n",
        "********************************************************************************************************************************************************************************************************************************************************************************************************************************\n",
        "\n",
        "**Question 6. How about this code: what is its output in Python 3, and explain?**\n",
        "\n",
        "\n",
        ">>> def func():\n",
        "\n",
        "\n",
        "X = 'NI'\n",
        "def nested():\n",
        "nonlocal X\n",
        "X = 'Spam'\n",
        "nested()\n",
        "print(X)\n",
        "\n",
        "\n",
        ">>> func()\n",
        "\n",
        "\n",
        "**Answer 6:**"
      ],
      "metadata": {
        "id": "lMFkenedBu1N"
      }
    },
    {
      "cell_type": "code",
      "source": [
        "def func():\n",
        "  X = 'NI'\n",
        "  def nested():\n",
        "    nonlocal X\n",
        "  X = 'Spam'\n",
        "  nested()\n",
        "  print(X)\n",
        "\n",
        "\n",
        "func()"
      ],
      "metadata": {
        "colab": {
          "base_uri": "https://localhost:8080/"
        },
        "id": "TSoYqpDeFF-k",
        "outputId": "d7df739e-1c2d-4639-c461-8478c9e2d459"
      },
      "execution_count": null,
      "outputs": [
        {
          "output_type": "stream",
          "name": "stdout",
          "text": [
            "Spam\n"
          ]
        }
      ]
    },
    {
      "cell_type": "code",
      "source": [
        "def func():\n",
        "  X = 'NI'\n",
        "  def nested():\n",
        "    nonlocal X\n",
        "    X = 'Spam'\n",
        "  nested()\n",
        "  print(X)\n",
        "\n",
        "\n",
        "func()"
      ],
      "metadata": {
        "colab": {
          "base_uri": "https://localhost:8080/"
        },
        "id": "7Hqq3-e18zxY",
        "outputId": "481cff92-e56f-4537-d49d-afbe83ef1450"
      },
      "execution_count": 3,
      "outputs": [
        {
          "output_type": "stream",
          "name": "stdout",
          "text": [
            "Spam\n"
          ]
        }
      ]
    },
    {
      "cell_type": "markdown",
      "source": [
        "**Output =**\n",
        "\n",
        "**Spam**\n",
        "\n",
        "\n",
        "Here X = 'NI' is defined in func() is local cariable for func(). nested() is nested in func().\n",
        "\n",
        "In nested(), X is declared as nonlocal variable, hence scope of variable X is bound to nested() only, \n",
        "\n",
        "Hence it will not use X value which is mentioned in func() as local variable X = 'NI' in nested function.\n",
        "\n",
        "In this case, scope of variable X is in the nested function, hence value of variable X declared in nested function will be the final value of X ie X = 'Spam'\n",
        "\n",
        "\n",
        "\n",
        "\n",
        "\n",
        "\n",
        "\n",
        "\n",
        "\n",
        "\n",
        "\n",
        "******************************************************************************************************************************************************************************************************************************************************************************************************************************************************************************************"
      ],
      "metadata": {
        "id": "0HdNZH6yenwM"
      }
    },
    {
      "cell_type": "markdown",
      "source": [
        "below codes practice to understand nonlocal variable scope."
      ],
      "metadata": {
        "id": "iZmhKWA0-h--"
      }
    },
    {
      "cell_type": "code",
      "source": [
        "def func():\n",
        "    X = 'NI'\n",
        "    def nested():\n",
        "        nonlocal X\n",
        "        X = 'Spam'\n",
        "    nested()"
      ],
      "metadata": {
        "id": "ZGrm8UzZe6lE"
      },
      "execution_count": null,
      "outputs": []
    },
    {
      "cell_type": "code",
      "source": [
        "print(X)"
      ],
      "metadata": {
        "colab": {
          "base_uri": "https://localhost:8080/"
        },
        "id": "B12gzemtfLTo",
        "outputId": "fa90a5f2-bf07-4971-9d99-8d377360ee3d"
      },
      "execution_count": null,
      "outputs": [
        {
          "output_type": "stream",
          "name": "stdout",
          "text": [
            "iNeuron\n"
          ]
        }
      ]
    },
    {
      "cell_type": "code",
      "source": [
        "func()"
      ],
      "metadata": {
        "id": "6a4SvFpRfOT7"
      },
      "execution_count": null,
      "outputs": []
    },
    {
      "cell_type": "code",
      "source": [
        "def func():\n",
        "    X = 'NI'\n",
        "    def nested():\n",
        "        nonlocal X\n",
        "        X = 'spam'\n",
        "    nested()\n",
        "    print(X)\n",
        "\n",
        "func()"
      ],
      "metadata": {
        "colab": {
          "base_uri": "https://localhost:8080/"
        },
        "id": "LNOdQyuTe7TE",
        "outputId": "17e41ef7-419a-47ee-984c-8fc00b1f8943"
      },
      "execution_count": null,
      "outputs": [
        {
          "output_type": "stream",
          "name": "stdout",
          "text": [
            "spam\n"
          ]
        }
      ]
    },
    {
      "cell_type": "code",
      "source": [
        "def func():\n",
        "    X = 'NI'\n",
        "    def nested():\n",
        "        nonlocal X\n",
        "        X = 'spam'\n",
        "    nested()\n",
        "\n",
        "print(X)\n",
        "\n",
        "func()"
      ],
      "metadata": {
        "colab": {
          "base_uri": "https://localhost:8080/",
          "height": 235
        },
        "id": "VhiCbG2IgYvB",
        "outputId": "e5c2baa9-b351-428b-a549-f5effe701884"
      },
      "execution_count": null,
      "outputs": [
        {
          "output_type": "error",
          "ename": "NameError",
          "evalue": "ignored",
          "traceback": [
            "\u001b[0;31m---------------------------------------------------------------------------\u001b[0m",
            "\u001b[0;31mNameError\u001b[0m                                 Traceback (most recent call last)",
            "\u001b[0;32m<ipython-input-2-ebc0e80d5ed3>\u001b[0m in \u001b[0;36m<module>\u001b[0;34m\u001b[0m\n\u001b[1;32m      6\u001b[0m     \u001b[0mnested\u001b[0m\u001b[0;34m(\u001b[0m\u001b[0;34m)\u001b[0m\u001b[0;34m\u001b[0m\u001b[0;34m\u001b[0m\u001b[0m\n\u001b[1;32m      7\u001b[0m \u001b[0;34m\u001b[0m\u001b[0m\n\u001b[0;32m----> 8\u001b[0;31m \u001b[0mprint\u001b[0m\u001b[0;34m(\u001b[0m\u001b[0mX\u001b[0m\u001b[0;34m)\u001b[0m\u001b[0;34m\u001b[0m\u001b[0;34m\u001b[0m\u001b[0m\n\u001b[0m\u001b[1;32m      9\u001b[0m \u001b[0;34m\u001b[0m\u001b[0m\n\u001b[1;32m     10\u001b[0m \u001b[0mfunc\u001b[0m\u001b[0;34m(\u001b[0m\u001b[0;34m)\u001b[0m\u001b[0;34m\u001b[0m\u001b[0;34m\u001b[0m\u001b[0m\n",
            "\u001b[0;31mNameError\u001b[0m: name 'X' is not defined"
          ]
        }
      ]
    },
    {
      "cell_type": "code",
      "source": [
        "def func():\n",
        "    X1 = 'NI'\n",
        "    def nested():\n",
        "        nonlocal X\n",
        "        X = 'spam'\n",
        "    nested()\n",
        "    print(X1)\n",
        "\n",
        "func()"
      ],
      "metadata": {
        "colab": {
          "base_uri": "https://localhost:8080/",
          "height": 130
        },
        "id": "4frfg2QhghFi",
        "outputId": "5a79baf9-5591-4595-dc6d-5f95ce85c048"
      },
      "execution_count": null,
      "outputs": [
        {
          "output_type": "error",
          "ename": "SyntaxError",
          "evalue": "ignored",
          "traceback": [
            "\u001b[0;36m  File \u001b[0;32m\"<ipython-input-3-8e2f29beac0e>\"\u001b[0;36m, line \u001b[0;32m4\u001b[0m\n\u001b[0;31m    nonlocal X\u001b[0m\n\u001b[0m    ^\u001b[0m\n\u001b[0;31mSyntaxError\u001b[0m\u001b[0;31m:\u001b[0m no binding for nonlocal 'X' found\n"
          ]
        }
      ]
    },
    {
      "cell_type": "code",
      "source": [
        "def func():\n",
        "    X = 'NI'\n",
        "    def nested():\n",
        "        nonlocal X1\n",
        "        X1 = 'spam'\n",
        "    nested()\n",
        "    print(X1)\n",
        "\n",
        "func()"
      ],
      "metadata": {
        "colab": {
          "base_uri": "https://localhost:8080/",
          "height": 130
        },
        "id": "8nk8LiE9ghIs",
        "outputId": "b1214bd3-2694-4f7b-d452-a49130735215"
      },
      "execution_count": null,
      "outputs": [
        {
          "output_type": "error",
          "ename": "SyntaxError",
          "evalue": "ignored",
          "traceback": [
            "\u001b[0;36m  File \u001b[0;32m\"<ipython-input-4-8153a30acc7b>\"\u001b[0;36m, line \u001b[0;32m4\u001b[0m\n\u001b[0;31m    nonlocal X1\u001b[0m\n\u001b[0m    ^\u001b[0m\n\u001b[0;31mSyntaxError\u001b[0m\u001b[0;31m:\u001b[0m no binding for nonlocal 'X1' found\n"
          ]
        }
      ]
    },
    {
      "cell_type": "code",
      "source": [
        "def outer():\n",
        "    first_num = 1\n",
        "    def inner():\n",
        "        nonlocal first_num\n",
        "        first_num = 0\n",
        "        second_num = 1\n",
        "        print(\"inner - second_num is: \", second_num)\n",
        "    inner()\n",
        "    print(\"outer - first_num is: \", first_num)\n",
        "\n",
        "outer()"
      ],
      "metadata": {
        "colab": {
          "base_uri": "https://localhost:8080/"
        },
        "id": "RASZzHDJ8db4",
        "outputId": "f64f5f86-ac6e-48ab-df37-e74cd004b3b6"
      },
      "execution_count": 1,
      "outputs": [
        {
          "output_type": "stream",
          "name": "stdout",
          "text": [
            "inner - second_num is:  1\n",
            "outer - first_num is:  0\n"
          ]
        }
      ]
    },
    {
      "cell_type": "code",
      "source": [
        "def outer():\n",
        "    first_num = 1\n",
        "    def inner():\n",
        "        \n",
        "        first_num = 0\n",
        "        second_num = 1\n",
        "        print(\"inner - second_num is: \", second_num)\n",
        "    inner()\n",
        "    print(\"outer - first_num is: \", first_num)\n",
        "\n",
        "outer()"
      ],
      "metadata": {
        "colab": {
          "base_uri": "https://localhost:8080/"
        },
        "id": "sCw1oD6q8gUk",
        "outputId": "3b51c6bf-90ef-4c77-8386-d1c217f86ca4"
      },
      "execution_count": 2,
      "outputs": [
        {
          "output_type": "stream",
          "name": "stdout",
          "text": [
            "inner - second_num is:  1\n",
            "outer - first_num is:  1\n"
          ]
        }
      ]
    },
    {
      "cell_type": "markdown",
      "source": [
        "********************************************************************************************************************************************************************************************************************************************************************************************************************************"
      ],
      "metadata": {
        "id": "EvPaQLKQFwiL"
      }
    }
  ]
}