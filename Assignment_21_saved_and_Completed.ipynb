{
  "nbformat": 4,
  "nbformat_minor": 0,
  "metadata": {
    "colab": {
      "provenance": []
    },
    "kernelspec": {
      "name": "python3",
      "display_name": "Python 3"
    },
    "language_info": {
      "name": "python"
    }
  },
  "cells": [
    {
      "cell_type": "markdown",
      "source": [
        "**Assignment 21** "
      ],
      "metadata": {
        "id": "b5wDTFJhnWJD"
      }
    },
    {
      "cell_type": "markdown",
      "source": [
        "**Question 1. Add the current date to the text file today.txt as a string**."
      ],
      "metadata": {
        "id": "5pHjLFiznhEb"
      }
    },
    {
      "cell_type": "code",
      "source": [
        "import datetime"
      ],
      "metadata": {
        "id": "i6qCIWs6n3Q_"
      },
      "execution_count": null,
      "outputs": []
    },
    {
      "cell_type": "code",
      "source": [
        "current_date = datetime.datetime.today()\n",
        "current_date"
      ],
      "metadata": {
        "colab": {
          "base_uri": "https://localhost:8080/"
        },
        "id": "aQd8v46KoiXi",
        "outputId": "8cf8cca3-7053-4ebb-ab70-cc2140188ea0"
      },
      "execution_count": null,
      "outputs": [
        {
          "output_type": "execute_result",
          "data": {
            "text/plain": [
              "datetime.datetime(2022, 11, 26, 8, 42, 30, 374923)"
            ]
          },
          "metadata": {},
          "execution_count": 41
        }
      ]
    },
    {
      "cell_type": "code",
      "source": [
        "date = current_date.strftime('Current Date = %d-%m-%Y  Time= %I:%M:%S %p')\n",
        "date"
      ],
      "metadata": {
        "colab": {
          "base_uri": "https://localhost:8080/",
          "height": 35
        },
        "id": "Sf6p5zMfoibQ",
        "outputId": "0f8a230a-72b7-4608-b128-8f8cf95b5239"
      },
      "execution_count": null,
      "outputs": [
        {
          "output_type": "execute_result",
          "data": {
            "text/plain": [
              "'Current Date = 26-11-2022  Time= 08:42:30 AM'"
            ],
            "application/vnd.google.colaboratory.intrinsic+json": {
              "type": "string"
            }
          },
          "metadata": {},
          "execution_count": 42
        }
      ]
    },
    {
      "cell_type": "code",
      "source": [
        "dateonly = current_date.strftime('Current Date = %d-%m-%Y ')\n",
        "dateonly"
      ],
      "metadata": {
        "colab": {
          "base_uri": "https://localhost:8080/",
          "height": 35
        },
        "id": "rYWKeCmooien",
        "outputId": "f2b7d966-5d7f-4982-d68c-1c8f2df23331"
      },
      "execution_count": null,
      "outputs": [
        {
          "output_type": "execute_result",
          "data": {
            "text/plain": [
              "'Current Date = 26-11-2022 '"
            ],
            "application/vnd.google.colaboratory.intrinsic+json": {
              "type": "string"
            }
          },
          "metadata": {},
          "execution_count": 43
        }
      ]
    },
    {
      "cell_type": "code",
      "source": [
        "## create txt file\n",
        "\n",
        "txtfile = open('today.txt', 'w')\n",
        "txtwriter = txtfile.write(date)\n",
        "txtfile.close()"
      ],
      "metadata": {
        "id": "LjSB_Cj2oihe"
      },
      "execution_count": null,
      "outputs": []
    },
    {
      "cell_type": "markdown",
      "source": [
        "**Question 2. Read the text file today.txt into the string today_string**"
      ],
      "metadata": {
        "id": "W-rtnHXdnhMQ"
      }
    },
    {
      "cell_type": "code",
      "source": [
        "## method 1:\n",
        "readtextfile = open('today.txt', 'r')\n",
        "today_string = readtextfile.read()\n",
        "print(today_string)\n",
        "readtextfile.close()"
      ],
      "metadata": {
        "id": "jLzLrBWUn3tk",
        "colab": {
          "base_uri": "https://localhost:8080/"
        },
        "outputId": "2e92bd7b-4b25-47b7-e9e1-fe5e48f92413"
      },
      "execution_count": null,
      "outputs": [
        {
          "output_type": "stream",
          "name": "stdout",
          "text": [
            "Current Date = 26-11-2022  Time= 08:42:30 AM\n"
          ]
        }
      ]
    },
    {
      "cell_type": "code",
      "source": [
        "## method 2:\n",
        "readtextfile = open('today.txt', 'r')\n",
        "today_string = readtextfile.readline()\n",
        "print(today_string)\n",
        "readtextfile.close()"
      ],
      "metadata": {
        "colab": {
          "base_uri": "https://localhost:8080/"
        },
        "id": "8ywni1JwAURu",
        "outputId": "067a5bb2-0936-4cfc-952d-1bde4d771399"
      },
      "execution_count": null,
      "outputs": [
        {
          "output_type": "stream",
          "name": "stdout",
          "text": [
            "Current Date = 26-11-2022  Time= 08:42:30 AM\n"
          ]
        }
      ]
    },
    {
      "cell_type": "code",
      "source": [
        "## method 3:\n",
        "readtextfile = open('today.txt', 'r')\n",
        "today_string1 = readtextfile.readlines()\n",
        "print(today_string1)\n",
        "readtextfile.close()"
      ],
      "metadata": {
        "colab": {
          "base_uri": "https://localhost:8080/"
        },
        "id": "12YxU8gFAUV8",
        "outputId": "69b77c8d-2676-4d57-b9d0-9be91849c576"
      },
      "execution_count": null,
      "outputs": [
        {
          "output_type": "stream",
          "name": "stdout",
          "text": [
            "['Current Date = 26-11-2022  Time= 08:42:30 AM']\n"
          ]
        }
      ]
    },
    {
      "cell_type": "code",
      "source": [],
      "metadata": {
        "id": "g_DYZ54fAUZC"
      },
      "execution_count": null,
      "outputs": []
    },
    {
      "cell_type": "markdown",
      "source": [
        "**Question 3. Parse the date from today_string**."
      ],
      "metadata": {
        "id": "FVqrrYrunhUG"
      }
    },
    {
      "cell_type": "code",
      "source": [
        "today_string"
      ],
      "metadata": {
        "id": "thAW9wuYn4Pb",
        "colab": {
          "base_uri": "https://localhost:8080/",
          "height": 35
        },
        "outputId": "cc903a10-08d3-4add-fa0a-fa51840c6cf2"
      },
      "execution_count": null,
      "outputs": [
        {
          "output_type": "execute_result",
          "data": {
            "text/plain": [
              "'Current Date = 26-11-2022  Time= 08:42:30 AM'"
            ],
            "application/vnd.google.colaboratory.intrinsic+json": {
              "type": "string"
            }
          },
          "metadata": {},
          "execution_count": 49
        }
      ]
    },
    {
      "cell_type": "code",
      "source": [
        "datetime.datetime.strptime(today_string,'Current Date = %d-%m-%Y  Time= %I:%M:%S %p')"
      ],
      "metadata": {
        "colab": {
          "base_uri": "https://localhost:8080/"
        },
        "id": "OHGY5KwrG9k0",
        "outputId": "2107e62e-0990-441e-dbb3-79fa3dcb7733"
      },
      "execution_count": null,
      "outputs": [
        {
          "output_type": "execute_result",
          "data": {
            "text/plain": [
              "datetime.datetime(2022, 11, 26, 8, 42, 30)"
            ]
          },
          "metadata": {},
          "execution_count": 54
        }
      ]
    },
    {
      "cell_type": "markdown",
      "source": [
        "**Question 4. List the files in your current directory**"
      ],
      "metadata": {
        "id": "LgpytwR6nhb_"
      }
    },
    {
      "cell_type": "code",
      "source": [
        "import os\n",
        "\n",
        "os.getcwd()"
      ],
      "metadata": {
        "id": "aRhjED5un4wn",
        "colab": {
          "base_uri": "https://localhost:8080/",
          "height": 35
        },
        "outputId": "f5898226-8fb9-4f2d-9b76-aa4cb477f09a"
      },
      "execution_count": null,
      "outputs": [
        {
          "output_type": "execute_result",
          "data": {
            "text/plain": [
              "'/content'"
            ],
            "application/vnd.google.colaboratory.intrinsic+json": {
              "type": "string"
            }
          },
          "metadata": {},
          "execution_count": 32
        }
      ]
    },
    {
      "cell_type": "code",
      "source": [
        "os.listdir()"
      ],
      "metadata": {
        "colab": {
          "base_uri": "https://localhost:8080/"
        },
        "id": "ZTmDvyKHDs2g",
        "outputId": "0c6454c8-db51-4569-9993-27423be42016"
      },
      "execution_count": null,
      "outputs": [
        {
          "output_type": "execute_result",
          "data": {
            "text/plain": [
              "['.config', 'today.txt', '.ipynb_checkpoints', 'sample_data']"
            ]
          },
          "metadata": {},
          "execution_count": 33
        }
      ]
    },
    {
      "cell_type": "code",
      "source": [
        "os.chdir('/content/drive/MyDrive')"
      ],
      "metadata": {
        "id": "b486c7kXDs9R"
      },
      "execution_count": null,
      "outputs": []
    },
    {
      "cell_type": "code",
      "source": [
        "os.listdir()"
      ],
      "metadata": {
        "colab": {
          "base_uri": "https://localhost:8080/"
        },
        "id": "qD8djIlfDtAR",
        "outputId": "9c49ed4a-c80b-4899-99d5-0b33a01b6079"
      },
      "execution_count": null,
      "outputs": [
        {
          "output_type": "execute_result",
          "data": {
            "text/plain": [
              "['summons for judgement.docx',\n",
              " 'Bio Bank of Maharashtra.docx',\n",
              " 'IN THE HONOURABLE LABOUR COURT AT MAHAD 12.05.2022.docx',\n",
              " 'IN THE HONOURABLE LABOUR COURT AT MAHAD 12.05.2022.docx.zdoc',\n",
              " 'ilovepdf_merged.pdf',\n",
              " 'Colab Notebooks',\n",
              " 'DSA by Shradha Didi & Aman Bhaiya.gsheet',\n",
              " 'Copy of DSA by Shradha Didi & Aman Bhaiya.gsheet',\n",
              " '3rdJulyResourceLink.gdoc',\n",
              " 'student.csv',\n",
              " 'sosc-credit-cards.pdf',\n",
              " 'Datascience backup 8 oct 2022',\n",
              " 'Assignment_2 Saved and Completed.gdoc',\n",
              " 'Assignment_3 Saved and  Completed .gdoc',\n",
              " 'Assignment_4 SAVED and COMPLETED.docx',\n",
              " 'Assignment_5 Saved and Completed.docx',\n",
              " 'Assignment_6 Saved and Completed.gdoc',\n",
              " 'Assignment_7 Saved and Completed.gdoc',\n",
              " 'Assignment_8 Saved and  Completed.gdoc',\n",
              " 'Tenorshare 4DDiG 2022-10-26 20-36-46.mp4',\n",
              " 'Tenorshare 4DDiG 2022-10-27 10-09-46.mp4',\n",
              " 'Tenorshare 4DDiG 2022-10-27 09-59-29.mp4',\n",
              " 'Assignment_11 Saved and Completed.gdoc',\n",
              " 'star Regular Expression HOWTO — Python 3.10.8 documentation.pdf',\n",
              " 'Assignment_12 saved and Completed.gdoc',\n",
              " 'Assignment_13 Saved and Completed.gdoc',\n",
              " 'Assignment_14 Saved and Completed.gdoc',\n",
              " 'Assignment_15 Saved and Completed.gdoc',\n",
              " 'Assignment_16 Saved and Completed.gdoc',\n",
              " 'Assignment_17 Saved and Completed.docx',\n",
              " 'Assignment_18 Saved and Completed.gdoc',\n",
              " 'Assignment_19 Saved and Completed.gdoc',\n",
              " 'Assignment_20 Saved and Completed.docx',\n",
              " 'Assignment_1 solved.gdoc']"
            ]
          },
          "metadata": {},
          "execution_count": 36
        }
      ]
    },
    {
      "cell_type": "code",
      "source": [
        "os.listdir('/content/drive/MyDrive')"
      ],
      "metadata": {
        "colab": {
          "base_uri": "https://localhost:8080/"
        },
        "id": "cOPsxllnDtDD",
        "outputId": "057f887d-6859-47d9-971a-d491f095582c"
      },
      "execution_count": null,
      "outputs": [
        {
          "output_type": "execute_result",
          "data": {
            "text/plain": [
              "['summons for judgement.docx',\n",
              " 'Bio Bank of Maharashtra.docx',\n",
              " 'IN THE HONOURABLE LABOUR COURT AT MAHAD 12.05.2022.docx',\n",
              " 'IN THE HONOURABLE LABOUR COURT AT MAHAD 12.05.2022.docx.zdoc',\n",
              " 'ilovepdf_merged.pdf',\n",
              " 'Colab Notebooks',\n",
              " 'DSA by Shradha Didi & Aman Bhaiya.gsheet',\n",
              " 'Copy of DSA by Shradha Didi & Aman Bhaiya.gsheet',\n",
              " '3rdJulyResourceLink.gdoc',\n",
              " 'student.csv',\n",
              " 'sosc-credit-cards.pdf',\n",
              " 'Datascience backup 8 oct 2022',\n",
              " 'Assignment_2 Saved and Completed.gdoc',\n",
              " 'Assignment_3 Saved and  Completed .gdoc',\n",
              " 'Assignment_4 SAVED and COMPLETED.docx',\n",
              " 'Assignment_5 Saved and Completed.docx',\n",
              " 'Assignment_6 Saved and Completed.gdoc',\n",
              " 'Assignment_7 Saved and Completed.gdoc',\n",
              " 'Assignment_8 Saved and  Completed.gdoc',\n",
              " 'Tenorshare 4DDiG 2022-10-26 20-36-46.mp4',\n",
              " 'Tenorshare 4DDiG 2022-10-27 10-09-46.mp4',\n",
              " 'Tenorshare 4DDiG 2022-10-27 09-59-29.mp4',\n",
              " 'Assignment_11 Saved and Completed.gdoc',\n",
              " 'star Regular Expression HOWTO — Python 3.10.8 documentation.pdf',\n",
              " 'Assignment_12 saved and Completed.gdoc',\n",
              " 'Assignment_13 Saved and Completed.gdoc',\n",
              " 'Assignment_14 Saved and Completed.gdoc',\n",
              " 'Assignment_15 Saved and Completed.gdoc',\n",
              " 'Assignment_16 Saved and Completed.gdoc',\n",
              " 'Assignment_17 Saved and Completed.docx',\n",
              " 'Assignment_18 Saved and Completed.gdoc',\n",
              " 'Assignment_19 Saved and Completed.gdoc',\n",
              " 'Assignment_20 Saved and Completed.docx',\n",
              " 'Assignment_1 solved.gdoc']"
            ]
          },
          "metadata": {},
          "execution_count": 37
        }
      ]
    },
    {
      "cell_type": "markdown",
      "source": [
        "**Question 5. Create a list of all of the files in your parent directory (minimum five files should be available)**."
      ],
      "metadata": {
        "id": "Jt9LFVZHnhk4"
      }
    },
    {
      "cell_type": "code",
      "source": [
        "os.listdir('.')"
      ],
      "metadata": {
        "colab": {
          "base_uri": "https://localhost:8080/"
        },
        "id": "aeZ8oAaeE8mV",
        "outputId": "90001fb9-53a7-4479-b4a7-f0c618cd3cd5"
      },
      "execution_count": null,
      "outputs": [
        {
          "output_type": "execute_result",
          "data": {
            "text/plain": [
              "['summons for judgement.docx',\n",
              " 'Bio Bank of Maharashtra.docx',\n",
              " 'IN THE HONOURABLE LABOUR COURT AT MAHAD 12.05.2022.docx',\n",
              " 'IN THE HONOURABLE LABOUR COURT AT MAHAD 12.05.2022.docx.zdoc',\n",
              " 'ilovepdf_merged.pdf',\n",
              " 'Colab Notebooks',\n",
              " 'DSA by Shradha Didi & Aman Bhaiya.gsheet',\n",
              " 'Copy of DSA by Shradha Didi & Aman Bhaiya.gsheet',\n",
              " '3rdJulyResourceLink.gdoc',\n",
              " 'student.csv',\n",
              " 'sosc-credit-cards.pdf',\n",
              " 'Datascience backup 8 oct 2022',\n",
              " 'Assignment_2 Saved and Completed.gdoc',\n",
              " 'Assignment_3 Saved and  Completed .gdoc',\n",
              " 'Assignment_4 SAVED and COMPLETED.docx',\n",
              " 'Assignment_5 Saved and Completed.docx',\n",
              " 'Assignment_6 Saved and Completed.gdoc',\n",
              " 'Assignment_7 Saved and Completed.gdoc',\n",
              " 'Assignment_8 Saved and  Completed.gdoc',\n",
              " 'Tenorshare 4DDiG 2022-10-26 20-36-46.mp4',\n",
              " 'Tenorshare 4DDiG 2022-10-27 10-09-46.mp4',\n",
              " 'Tenorshare 4DDiG 2022-10-27 09-59-29.mp4',\n",
              " 'Assignment_11 Saved and Completed.gdoc',\n",
              " 'star Regular Expression HOWTO — Python 3.10.8 documentation.pdf',\n",
              " 'Assignment_12 saved and Completed.gdoc',\n",
              " 'Assignment_13 Saved and Completed.gdoc',\n",
              " 'Assignment_14 Saved and Completed.gdoc',\n",
              " 'Assignment_15 Saved and Completed.gdoc',\n",
              " 'Assignment_16 Saved and Completed.gdoc',\n",
              " 'Assignment_17 Saved and Completed.docx',\n",
              " 'Assignment_18 Saved and Completed.gdoc',\n",
              " 'Assignment_19 Saved and Completed.gdoc',\n",
              " 'Assignment_20 Saved and Completed.docx',\n",
              " 'Assignment_1 solved.gdoc',\n",
              " 'today.txt']"
            ]
          },
          "metadata": {},
          "execution_count": 55
        }
      ]
    },
    {
      "cell_type": "code",
      "source": [
        "os.listdir('..')"
      ],
      "metadata": {
        "id": "9zcOJOJGn51b",
        "colab": {
          "base_uri": "https://localhost:8080/"
        },
        "outputId": "5f3c8895-3065-4237-deff-d9bf6b91f243"
      },
      "execution_count": null,
      "outputs": [
        {
          "output_type": "execute_result",
          "data": {
            "text/plain": [
              "['.file-revisions-by-id', 'MyDrive', '.shortcut-targets-by-id', '.Trash-0']"
            ]
          },
          "metadata": {},
          "execution_count": 56
        }
      ]
    },
    {
      "cell_type": "markdown",
      "source": [
        "**Question 6. Use multiprocessing to create three separate processes. Make each one wait a random number of seconds between one and five, print the current time, and then exit**"
      ],
      "metadata": {
        "id": "aVBIUYw1nhsG"
      }
    },
    {
      "cell_type": "code",
      "source": [
        "import multiprocessing\n",
        "import datetime \n",
        "import time \n",
        "import random \n",
        "\n",
        "def printtime(seconds):\n",
        "  time.sleep(seconds)\n",
        "\n",
        "  print('wait for', seconds, 'current time is', datetime.datetime.now())\n",
        "\n",
        "\n",
        "if __name__ =='__main__'  :\n",
        "  import random \n",
        "  for n in range(5):\n",
        "     \n",
        "    seconds = random.random()\n",
        "    process1 = multiprocessing.Process(target = printtime, args = (seconds,))\n",
        "    process1.start()\n",
        "    process1.join()"
      ],
      "metadata": {
        "colab": {
          "base_uri": "https://localhost:8080/"
        },
        "id": "6ibHqrooMStW",
        "outputId": "6308cb63-0e6a-4af1-dbaf-96b9e642e877"
      },
      "execution_count": 1,
      "outputs": [
        {
          "output_type": "stream",
          "name": "stdout",
          "text": [
            "wait for 0.38255293187549166 current time is 2022-11-29 16:21:56.877343\n",
            "wait for 0.9551583236741603 current time is 2022-11-29 16:21:57.891606\n",
            "wait for 0.5925102925493281 current time is 2022-11-29 16:21:58.586616\n",
            "wait for 0.03557089590780138 current time is 2022-11-29 16:21:58.673695\n",
            "wait for 0.5595322043660521 current time is 2022-11-29 16:21:59.293213\n"
          ]
        }
      ]
    },
    {
      "cell_type": "markdown",
      "source": [
        "**Question 7. Create a date object of your day of birth**"
      ],
      "metadata": {
        "id": "RqjkQuTrnhz0"
      }
    },
    {
      "cell_type": "code",
      "source": [
        "import datetime\n",
        "\n",
        "mybirthdate = '02/03/1984'\n",
        "format ='%d/%m/%Y'\n",
        "\n",
        "birthday = datetime.datetime.strptime(mybirthdate, format) \n",
        "birthday"
      ],
      "metadata": {
        "id": "_pq3k1i5n-eP",
        "colab": {
          "base_uri": "https://localhost:8080/"
        },
        "outputId": "dd68d0ee-495e-4209-c437-f892a5a92ad6"
      },
      "execution_count": 34,
      "outputs": [
        {
          "output_type": "execute_result",
          "data": {
            "text/plain": [
              "datetime.datetime(1984, 3, 2, 0, 0)"
            ]
          },
          "metadata": {},
          "execution_count": 34
        }
      ]
    },
    {
      "cell_type": "code",
      "source": [
        "birthday.date()"
      ],
      "metadata": {
        "colab": {
          "base_uri": "https://localhost:8080/"
        },
        "id": "4lCxENrUOwx3",
        "outputId": "c150b9c5-5c9b-490e-a13c-058e9f959e15"
      },
      "execution_count": 35,
      "outputs": [
        {
          "output_type": "execute_result",
          "data": {
            "text/plain": [
              "datetime.date(1984, 3, 2)"
            ]
          },
          "metadata": {},
          "execution_count": 35
        }
      ]
    },
    {
      "cell_type": "markdown",
      "source": [
        "**Question 8. What day of the week was your day of birth?**"
      ],
      "metadata": {
        "id": "RBGeHtmQnh7I"
      }
    },
    {
      "cell_type": "code",
      "source": [
        "birthday.weekday()"
      ],
      "metadata": {
        "id": "5I4-BwiVn-9D",
        "colab": {
          "base_uri": "https://localhost:8080/"
        },
        "outputId": "8c771478-1044-4253-a70a-44862ac46f46"
      },
      "execution_count": 36,
      "outputs": [
        {
          "output_type": "execute_result",
          "data": {
            "text/plain": [
              "4"
            ]
          },
          "metadata": {},
          "execution_count": 36
        }
      ]
    },
    {
      "cell_type": "code",
      "source": [
        "birthday.date().weekday()"
      ],
      "metadata": {
        "colab": {
          "base_uri": "https://localhost:8080/"
        },
        "id": "KnId3kakQVtz",
        "outputId": "e1ddb77d-b894-4d4e-fafd-cf7e536b4914"
      },
      "execution_count": 37,
      "outputs": [
        {
          "output_type": "execute_result",
          "data": {
            "text/plain": [
              "4"
            ]
          },
          "metadata": {},
          "execution_count": 37
        }
      ]
    },
    {
      "cell_type": "markdown",
      "source": [
        "**Question 9. When will you be (or when were you) 10,000 days old?**"
      ],
      "metadata": {
        "id": "yIhhSs4DniC9"
      }
    },
    {
      "cell_type": "code",
      "source": [
        "import datetime\n",
        "\n",
        "delta = datetime.timedelta(10000,0,0,0)\n",
        "delta"
      ],
      "metadata": {
        "id": "GnY0QvdFn_Z1",
        "colab": {
          "base_uri": "https://localhost:8080/"
        },
        "outputId": "5db72917-9bcc-4927-fcef-b944db7e5c5d"
      },
      "execution_count": 38,
      "outputs": [
        {
          "output_type": "execute_result",
          "data": {
            "text/plain": [
              "datetime.timedelta(days=10000)"
            ]
          },
          "metadata": {},
          "execution_count": 38
        }
      ]
    },
    {
      "cell_type": "code",
      "source": [
        "str(delta)"
      ],
      "metadata": {
        "colab": {
          "base_uri": "https://localhost:8080/",
          "height": 35
        },
        "id": "8ansrYqVPN4q",
        "outputId": "2f10c62a-4659-4819-95d2-13ab6c9b5a9c"
      },
      "execution_count": 39,
      "outputs": [
        {
          "output_type": "execute_result",
          "data": {
            "text/plain": [
              "'10000 days, 0:00:00'"
            ],
            "application/vnd.google.colaboratory.intrinsic+json": {
              "type": "string"
            }
          },
          "metadata": {},
          "execution_count": 39
        }
      ]
    },
    {
      "cell_type": "code",
      "source": [
        "birthday.date() +  delta"
      ],
      "metadata": {
        "colab": {
          "base_uri": "https://localhost:8080/"
        },
        "id": "PuXMUw8hPQTy",
        "outputId": "d5c618ff-a6ee-449b-9ea9-0979cc9d0e41"
      },
      "execution_count": 40,
      "outputs": [
        {
          "output_type": "execute_result",
          "data": {
            "text/plain": [
              "datetime.date(2011, 7, 19)"
            ]
          },
          "metadata": {},
          "execution_count": 40
        }
      ]
    },
    {
      "cell_type": "code",
      "source": [],
      "metadata": {
        "id": "5ffv9MZURQt2"
      },
      "execution_count": 49,
      "outputs": []
    }
  ]
}