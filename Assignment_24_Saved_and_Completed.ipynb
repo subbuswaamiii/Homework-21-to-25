{
  "nbformat": 4,
  "nbformat_minor": 0,
  "metadata": {
    "colab": {
      "provenance": []
    },
    "kernelspec": {
      "name": "python3",
      "display_name": "Python 3"
    },
    "language_info": {
      "name": "python"
    }
  },
  "cells": [
    {
      "cell_type": "code",
      "execution_count": null,
      "metadata": {
        "id": "J24wZkLwjVg_"
      },
      "outputs": [],
      "source": []
    },
    {
      "cell_type": "markdown",
      "source": [
        "**ASSIGNMENT 24**"
      ],
      "metadata": {
        "id": "uHxtwJ9ykhvz"
      }
    },
    {
      "cell_type": "markdown",
      "source": [
        "**Question 1. What is the relationship between def statements and lambda expressions ?**"
      ],
      "metadata": {
        "id": "m8KAINcNjwTa"
      }
    },
    {
      "cell_type": "markdown",
      "source": [
        "**Answer 1: -**\n",
        "\n",
        "\n",
        "\n",
        "\n",
        "\n",
        "**def functions:** \n",
        "\n",
        "\n",
        "Functions help break our program into smaller and modular chunks. As our program grows larger and larger, functions make it more organised and manageable. They can be called and used anywhere we want."
      ],
      "metadata": {
        "id": "TQAO9mkDmN_m"
      }
    },
    {
      "cell_type": "code",
      "source": [
        "def add(a,b):\n",
        "      return a+b\n",
        "print(add(4,5))"
      ],
      "metadata": {
        "colab": {
          "base_uri": "https://localhost:8080/"
        },
        "id": "w6_i0JhQkmXb",
        "outputId": "3fdd8b15-a1c6-4a34-a189-2648277e33e7"
      },
      "execution_count": null,
      "outputs": [
        {
          "output_type": "stream",
          "name": "stdout",
          "text": [
            "9\n"
          ]
        }
      ]
    },
    {
      "cell_type": "markdown",
      "source": [
        "**Lambda functions:** \n",
        "\n",
        "\n",
        "are operator can have any number of arguments, but it can have only one expression. It cannot contain any statements and it returns a function object which can be assigned to any variable. They can be used in the block they were created."
      ],
      "metadata": {
        "id": "fk71x78TmRYp"
      }
    },
    {
      "cell_type": "code",
      "source": [
        "add = lambda x, y : x + y \n",
        "print(add(4,5))"
      ],
      "metadata": {
        "colab": {
          "base_uri": "https://localhost:8080/"
        },
        "id": "4e2uqKnJmXDC",
        "outputId": "0ed14eee-31f2-4a15-c3ce-6883747b9fd4"
      },
      "execution_count": null,
      "outputs": [
        {
          "output_type": "stream",
          "name": "stdout",
          "text": [
            "9\n"
          ]
        }
      ]
    },
    {
      "cell_type": "markdown",
      "source": [
        "A def is a statement producing a function.\n",
        "A lambda is an expression producing a function.\n",
        "\n",
        "def statements is block of staements, function returns the value by calling function\n",
        "\n",
        "lambda expressions is single line expression specifiacally used for arithmetic , basic operation. there is limitation to use for complex coding.\n",
        " 'add' object assigned to lambda exprssion. It returns value after calling function object. \n"
      ],
      "metadata": {
        "id": "Gv2qbwgVmvDX"
      }
    },
    {
      "cell_type": "code",
      "source": [
        "def def_func(): pass\n",
        "lambda_func = lambda: None\n",
        "type(def_func) == type(lambda_func)"
      ],
      "metadata": {
        "colab": {
          "base_uri": "https://localhost:8080/"
        },
        "id": "0KNVLchPmyR3",
        "outputId": "b2decd7e-c18b-458c-daee-2f64ff95f13e"
      },
      "execution_count": null,
      "outputs": [
        {
          "output_type": "execute_result",
          "data": {
            "text/plain": [
              "True"
            ]
          },
          "metadata": {},
          "execution_count": 4
        }
      ]
    },
    {
      "cell_type": "markdown",
      "source": [
        "**Question 2. What is the benefit of lambda?**"
      ],
      "metadata": {
        "id": "ZnyImPa2jwhB"
      }
    },
    {
      "cell_type": "markdown",
      "source": [
        "**Answer 2: -**\n",
        "\n",
        "\n",
        "Lambda is an inline function where we can do any functionality without a function name. \n",
        "\n",
        "Let's see one code using both def function and lambda expression and compare"
      ],
      "metadata": {
        "id": "HdtxH3MWnSL4"
      }
    },
    {
      "cell_type": "markdown",
      "source": [
        "**Example of Function definition:**\n"
      ],
      "metadata": {
        "id": "YxpNTsAonVsd"
      }
    },
    {
      "cell_type": "code",
      "source": [
        "def func(a, b):\n",
        "    return a * b\n",
        "\n",
        "func(2,3)"
      ],
      "metadata": {
        "colab": {
          "base_uri": "https://localhost:8080/"
        },
        "id": "pLUw0hkXkmwl",
        "outputId": "b79786d5-6b8c-424e-81d0-4559d546fe9d"
      },
      "execution_count": null,
      "outputs": [
        {
          "output_type": "execute_result",
          "data": {
            "text/plain": [
              "6"
            ]
          },
          "metadata": {},
          "execution_count": 7
        }
      ]
    },
    {
      "cell_type": "code",
      "source": [
        "type(func)"
      ],
      "metadata": {
        "colab": {
          "base_uri": "https://localhost:8080/"
        },
        "id": "sBRBeLHPnfLz",
        "outputId": "311cf56f-2a01-4314-9cd0-17a091e87c04"
      },
      "execution_count": null,
      "outputs": [
        {
          "output_type": "execute_result",
          "data": {
            "text/plain": [
              "function"
            ]
          },
          "metadata": {},
          "execution_count": 8
        }
      ]
    },
    {
      "cell_type": "code",
      "source": [
        "func"
      ],
      "metadata": {
        "colab": {
          "base_uri": "https://localhost:8080/"
        },
        "id": "-ZzklKwknfPP",
        "outputId": "a873d1a3-f8b7-40d2-c513-bca4a2fd94cc"
      },
      "execution_count": null,
      "outputs": [
        {
          "output_type": "execute_result",
          "data": {
            "text/plain": [
              "<function __main__.func(a, b)>"
            ]
          },
          "metadata": {},
          "execution_count": 9
        }
      ]
    },
    {
      "cell_type": "markdown",
      "source": [
        "**Example of Lambda expression**:"
      ],
      "metadata": {
        "id": "3m9Eetqrns7p"
      }
    },
    {
      "cell_type": "code",
      "source": [
        "multiply = lambda a, b: a * b\n",
        "multiply(2, 3)\n"
      ],
      "metadata": {
        "colab": {
          "base_uri": "https://localhost:8080/"
        },
        "id": "tbpDDACtnfSg",
        "outputId": "2ebe0893-d94e-4992-a5b2-a07fab443e3a"
      },
      "execution_count": null,
      "outputs": [
        {
          "output_type": "execute_result",
          "data": {
            "text/plain": [
              "6"
            ]
          },
          "metadata": {},
          "execution_count": 10
        }
      ]
    },
    {
      "cell_type": "code",
      "source": [
        "type(multiply)"
      ],
      "metadata": {
        "colab": {
          "base_uri": "https://localhost:8080/"
        },
        "id": "F6XpVqKhnxH1",
        "outputId": "3d10458d-a74e-4bf5-c963-508bd9503619"
      },
      "execution_count": null,
      "outputs": [
        {
          "output_type": "execute_result",
          "data": {
            "text/plain": [
              "function"
            ]
          },
          "metadata": {},
          "execution_count": 11
        }
      ]
    },
    {
      "cell_type": "code",
      "source": [
        "multiply"
      ],
      "metadata": {
        "colab": {
          "base_uri": "https://localhost:8080/"
        },
        "id": "MnJBoOTwnxLL",
        "outputId": "eea5dd9e-b5d2-470b-bde9-ecc3c4cb9818"
      },
      "execution_count": null,
      "outputs": [
        {
          "output_type": "execute_result",
          "data": {
            "text/plain": [
              "<function __main__.<lambda>(a, b)>"
            ]
          },
          "metadata": {},
          "execution_count": 12
        }
      ]
    },
    {
      "cell_type": "markdown",
      "source": [
        "There are some **benefits of lambda** over def function :\n",
        "\n",
        "\n",
        "1. Lambda functions reduce the number of lines of code when compared to normal python function defined using def keyword. \n",
        "\n",
        "2. They are generally used when a function is needed temporarily for a short period of time, often to be used inside another function such as filter, map and reduce.\n",
        "\n",
        "3. Using lambda function, you can define a function and call it immediately at the end of definition. This can’t be done with def functions."
      ],
      "metadata": {
        "id": "djAKspVPpm8j"
      }
    },
    {
      "cell_type": "code",
      "source": [],
      "metadata": {
        "id": "fXqcrRp4nxO9"
      },
      "execution_count": null,
      "outputs": []
    },
    {
      "cell_type": "markdown",
      "source": [
        "**Question 3. Compare and contrast map, filter, and reduce.**"
      ],
      "metadata": {
        "id": "r8R5UKXVjwpG"
      }
    },
    {
      "cell_type": "markdown",
      "source": [
        "**Answer 3: -**\n",
        "\n",
        "\n",
        "\n",
        "All three functions take function to apply on iterator and iterator as input.\n",
        "\n",
        "(function_to_apply, list_of_inputs)\n",
        "\n",
        "\n",
        "\n"
      ],
      "metadata": {
        "id": "n9uv0fmfqcfN"
      }
    },
    {
      "cell_type": "markdown",
      "source": [
        "**1. MAP function** \n",
        "to each element of iterator and collects result.\n"
      ],
      "metadata": {
        "id": "M4U6ddrwQsGP"
      }
    },
    {
      "cell_type": "code",
      "source": [
        "a=[1,2,3,4] \n",
        "b = list(map(lambda x:x*2, a)) \n",
        "b"
      ],
      "metadata": {
        "colab": {
          "base_uri": "https://localhost:8080/"
        },
        "id": "I3_rsDSkknSc",
        "outputId": "fca18ef1-9831-468a-d583-a94ce00e35ef"
      },
      "execution_count": null,
      "outputs": [
        {
          "output_type": "execute_result",
          "data": {
            "text/plain": [
              "[2, 4, 6, 8]"
            ]
          },
          "metadata": {},
          "execution_count": 13
        }
      ]
    },
    {
      "cell_type": "markdown",
      "source": [
        "**2. FILTER** \n",
        "applies function to each element of iterator and collect those elements for which function returns true. For this function need to return boolean value.\n"
      ],
      "metadata": {
        "id": "tNu5mXlbQtct"
      }
    },
    {
      "cell_type": "code",
      "source": [
        "a=[1,2,3,4] \n",
        "m = list(filter(lambda x:x>2, a)) \n",
        "m"
      ],
      "metadata": {
        "colab": {
          "base_uri": "https://localhost:8080/"
        },
        "id": "Qiyg4ykEqf0q",
        "outputId": "b9558b93-810a-4b8a-cab4-915cb33f4fbc"
      },
      "execution_count": null,
      "outputs": [
        {
          "output_type": "execute_result",
          "data": {
            "text/plain": [
              "[3, 4]"
            ]
          },
          "metadata": {},
          "execution_count": 14
        }
      ]
    },
    {
      "cell_type": "markdown",
      "source": [
        "**3. REDUCE** \n",
        "applies rolling computation to sequential pair of elements in iterator. Initially it takes two elements from iterator in sequence, applies function, collect result, then take next element in sequence from iterator, applies function and repeat this untill list has single value."
      ],
      "metadata": {
        "id": "d3J_lIQmQufq"
      }
    },
    {
      "cell_type": "code",
      "source": [
        "a=[1,2,3,4] \n",
        "from functools import reduce \n",
        "p = reduce(add, a)\n",
        "p"
      ],
      "metadata": {
        "colab": {
          "base_uri": "https://localhost:8080/"
        },
        "id": "-UrgBI2Uqf35",
        "outputId": "0e294112-36da-4a72-cae5-e2472c1c33fc"
      },
      "execution_count": null,
      "outputs": [
        {
          "output_type": "execute_result",
          "data": {
            "text/plain": [
              "10"
            ]
          },
          "metadata": {},
          "execution_count": 16
        }
      ]
    },
    {
      "cell_type": "markdown",
      "source": [
        "**Question 4. What are function annotations, and how are they used?**"
      ],
      "metadata": {
        "id": "QqRiKutKjww0"
      }
    },
    {
      "cell_type": "markdown",
      "source": [
        "**Answer 4: -**\n",
        "\n",
        "\n",
        "Function annotations are arbitrary python expressions that are associated with various part of functions. These expressions are evaluated at compile time and have no life in python’s runtime environment. Python does not attach any meaning to these annotations. They take life when interpreted by third party libraries, for example, mypy.\n",
        "\n",
        "**Purpose of function annotations:**\n",
        "\n",
        "\n",
        "The benefits from function annotations can only be reaped via third party libraries. The type of benefits depends upon the type of the library, for example\n",
        "\n",
        "1. Python supports dynamic typing and hence no module is provided for type checking. Annotations like\n",
        "[def foo(a:”int”, b:”float”=5.0)  -> ”int”]\n",
        "\n",
        "\n",
        "(syntax described in detail in the next section) can be used to collect information about the type of the parameters and the return type of the function to keep track of the type change occurring in the function. ‘mypy’ is one such library.\n",
        "\n",
        "2. String based annotations can be used by the libraries to provide better help messages at compile time regarding the functionalities of various methods, classes and modules."
      ],
      "metadata": {
        "id": "XxAq-l9KtVW9"
      }
    },
    {
      "cell_type": "code",
      "source": [],
      "metadata": {
        "id": "2Imp1xFXkn3x"
      },
      "execution_count": null,
      "outputs": []
    },
    {
      "cell_type": "markdown",
      "source": [
        "**Question 5. What are recursive functions, and how are they used?**"
      ],
      "metadata": {
        "id": "FrmTAistjw5O"
      }
    },
    {
      "cell_type": "markdown",
      "source": [
        "**Answer 5: -**\n",
        "\n",
        "\n",
        "\n",
        "\n",
        "**Recursion is a programming technique where a function calls itself repeatedly till a termination condition is met.**\n",
        "\n",
        "Some of the examples where recursion is used are calculation of fibonacci series, factorial, etc.\n",
        "\n",
        "**A recursive function is a function in code that refers to itself for execution.** Recursive functions can be simple or elaborate. They allow for more efficient code writing, for instance, in the listing or compiling of sets of numbers, strings or other variables through a single reiterated process.\n",
        "\n",
        "**Recursive functions in code often rely on loop setups, where the initial variable is called on multiple times while being altered by the loop**. Simple examples of a recursive function include the factorial, where an integer is multiplied by itself while being incrementally lowered. Many other self-referencing functions in a loop could be called recursive functions, for example, where n = n + 1 given an operating range.\n",
        "\n",
        "\n"
      ],
      "metadata": {
        "id": "PAhR7LA6uxH6"
      }
    },
    {
      "cell_type": "code",
      "source": [
        "# Simple recursive program to find factorial\n",
        "def facto(num):\n",
        "\tif num == 1:\n",
        "\t\treturn 1\n",
        "\telse:\n",
        "\t\treturn num * facto(num-1)\n",
        "\t\t\n",
        "num = 5\n",
        "#print(facto(5))\n",
        "print(\"Factorial of\",num,\"is\", facto(num))\n"
      ],
      "metadata": {
        "colab": {
          "base_uri": "https://localhost:8080/"
        },
        "id": "fVgG91BMkoed",
        "outputId": "b927790e-ddd0-415e-cf63-125aa5c425a0"
      },
      "execution_count": 14,
      "outputs": [
        {
          "output_type": "stream",
          "name": "stdout",
          "text": [
            "Factorial of 5 is 120\n"
          ]
        }
      ]
    },
    {
      "cell_type": "markdown",
      "source": [
        "**Question 6. What are some general design guidelines for coding functions?**"
      ],
      "metadata": {
        "id": "gT9FxzxEjxCP"
      }
    },
    {
      "cell_type": "markdown",
      "source": [
        "**Answer 6: -**\n",
        "\n",
        "\n",
        "Coding rules and guidelines ensure that software is:\n",
        "\n",
        "**Safe:** It can be used without causing harm.\n",
        "\n",
        "**Secure**: It can’t be hacked.\n",
        "\n",
        "**Reliable**: It functions as it should, every time.\n",
        "\n",
        "**Testable:** It can be tested at the code level.\n",
        "Maintainable: It can be maintained, even as your codebase grows.\n",
        "\n",
        "**Portable:** It works the same in every environment."
      ],
      "metadata": {
        "id": "wMXG1Mp8T_se"
      }
    },
    {
      "cell_type": "markdown",
      "source": [
        "**Question 7. Name three or more ways that functions can communicate results to a caller.**"
      ],
      "metadata": {
        "id": "zRaQF204jxLh"
      }
    },
    {
      "cell_type": "markdown",
      "source": [
        "**Answer 7: -**\n",
        "\n",
        "\n",
        "\n",
        "**1. function name with closure example**"
      ],
      "metadata": {
        "id": "k3hR-WWZV4Ut"
      }
    },
    {
      "cell_type": "code",
      "source": [
        "def name():\n",
        "\tprint(\" I am Good Python Developer\")\n",
        "\t\t\n",
        "\n",
        "name()"
      ],
      "metadata": {
        "id": "ckSjYwcYkpkY",
        "colab": {
          "base_uri": "https://localhost:8080/"
        },
        "outputId": "75ff9225-e395-4810-c516-a7e0d3142e72"
      },
      "execution_count": 20,
      "outputs": [
        {
          "output_type": "stream",
          "name": "stdout",
          "text": [
            " I am Good Python Developer\n"
          ]
        }
      ]
    },
    {
      "cell_type": "markdown",
      "source": [
        "**2. function name with arguments or parameters**"
      ],
      "metadata": {
        "id": "1muRDODbWY53"
      }
    },
    {
      "cell_type": "code",
      "source": [
        "def facto(num):\n",
        "\tif num == 1:\n",
        "\t\treturn 1\n",
        "\telse:\n",
        "\t\treturn num * facto(num-1)\n",
        "\t\t\n",
        "num = 5\n",
        "print(\"Factorial of\",num,\"is\", facto(num))"
      ],
      "metadata": {
        "colab": {
          "base_uri": "https://localhost:8080/"
        },
        "id": "-9KdUKndWXOd",
        "outputId": "b935c884-6a6b-4b4d-b305-9a0bacb68237"
      },
      "execution_count": 22,
      "outputs": [
        {
          "output_type": "stream",
          "name": "stdout",
          "text": [
            "Factorial of 5 is 120\n"
          ]
        }
      ]
    },
    {
      "cell_type": "code",
      "source": [
        "def facto(num):\n",
        "\tif num == 1:\n",
        "\t\treturn 1\n",
        "\telse:\n",
        "\t\treturn num * facto(num-1)\n",
        "print(\"Factorial of\",num,\"is\", facto(5))"
      ],
      "metadata": {
        "colab": {
          "base_uri": "https://localhost:8080/"
        },
        "id": "XY_GWaD5Wu2g",
        "outputId": "a69dee07-d618-4540-ad86-926416207b62"
      },
      "execution_count": 23,
      "outputs": [
        {
          "output_type": "stream",
          "name": "stdout",
          "text": [
            "Factorial of 5 is 120\n"
          ]
        }
      ]
    },
    {
      "cell_type": "markdown",
      "source": [
        "**3. Function can be assigned to a variable** i.e they can be referenced."
      ],
      "metadata": {
        "id": "fYXtXLl7XRCs"
      }
    },
    {
      "cell_type": "code",
      "source": [
        "def facto(num):\n",
        "\tif num == 1:\n",
        "\t\treturn 1\n",
        "\telse:\n",
        "\t\treturn num * facto(num-1)\n",
        "\t\t\n",
        "num = 5\n",
        "factorial = facto(num)\n",
        "print(\"Factorial of\",num,\"is\", factorial)"
      ],
      "metadata": {
        "colab": {
          "base_uri": "https://localhost:8080/"
        },
        "id": "xUiC33VTXBlL",
        "outputId": "94eff142-992f-48dc-caf1-101488df470a"
      },
      "execution_count": 24,
      "outputs": [
        {
          "output_type": "stream",
          "name": "stdout",
          "text": [
            "Factorial of 5 is 120\n"
          ]
        }
      ]
    },
    {
      "cell_type": "markdown",
      "source": [
        "**4. Function can be passed as an argument to another function.**"
      ],
      "metadata": {
        "id": "-iraGyeaXzRv"
      }
    },
    {
      "cell_type": "code",
      "source": [
        "def shout(text):\n",
        "\treturn text.upper()\n",
        "\n",
        "def whisper(text):\n",
        "\treturn text.lower()\n",
        "\n",
        "def greet(func):\n",
        "\t# storing the function in a variable\n",
        "\tgreeting = func(\"\"\"Hi, I am created by a function passed as an argument.\"\"\")\n",
        "\tprint (greeting)\n",
        "\n",
        "greet(shout)\n",
        "greet(whisper)"
      ],
      "metadata": {
        "colab": {
          "base_uri": "https://localhost:8080/"
        },
        "id": "xrwsaB-lXu-z",
        "outputId": "9fbcc593-f6f8-4795-d882-b8f646a72d44"
      },
      "execution_count": 25,
      "outputs": [
        {
          "output_type": "stream",
          "name": "stdout",
          "text": [
            "HI, I AM CREATED BY A FUNCTION PASSED AS AN ARGUMENT.\n",
            "hi, i am created by a function passed as an argument.\n"
          ]
        }
      ]
    },
    {
      "cell_type": "markdown",
      "source": [
        "**5. functions can be treated as objects**"
      ],
      "metadata": {
        "id": "2dpJ8ps4YMLE"
      }
    },
    {
      "cell_type": "code",
      "source": [
        "def shout(text):\n",
        "\treturn text.upper()\n",
        "\n",
        "print(shout('Hello'))\n",
        "\n",
        "yell = shout\n",
        "\n",
        "print(yell('Hello'))"
      ],
      "metadata": {
        "colab": {
          "base_uri": "https://localhost:8080/"
        },
        "id": "VwuiBsp7X3Fr",
        "outputId": "3c44f066-7448-49c1-c8a6-65be63ff284a"
      },
      "execution_count": 26,
      "outputs": [
        {
          "output_type": "stream",
          "name": "stdout",
          "text": [
            "HELLO\n",
            "HELLO\n"
          ]
        }
      ]
    },
    {
      "cell_type": "markdown",
      "source": [
        "**6. Function can be returned from a function**"
      ],
      "metadata": {
        "id": "xo1DDfuXYaQ3"
      }
    },
    {
      "cell_type": "code",
      "source": [
        "def add(x):\n",
        "\tdef adder(y):\n",
        "\t\treturn x+y\n",
        "\n",
        "\treturn adder\n",
        "\n",
        "add_15 = add(15)\n",
        "\n",
        "print(add_15(10))"
      ],
      "metadata": {
        "colab": {
          "base_uri": "https://localhost:8080/"
        },
        "id": "APv16gouYSx9",
        "outputId": "3e463e7b-c812-4ac0-e2e2-42d886945c5e"
      },
      "execution_count": 27,
      "outputs": [
        {
          "output_type": "stream",
          "name": "stdout",
          "text": [
            "25\n"
          ]
        }
      ]
    },
    {
      "cell_type": "markdown",
      "source": [
        "**7. function can be accessed using Decorators**"
      ],
      "metadata": {
        "id": "4eePlLgpZAVA"
      }
    },
    {
      "cell_type": "code",
      "source": [
        "\n",
        "\n",
        "def decor1(func):\n",
        "\tdef inner():\n",
        "\t\tx = func()\n",
        "\t\treturn x * x\n",
        "\treturn inner\n",
        "\n",
        "def decor(func):\n",
        "\tdef inner():\n",
        "\t\tx = func()\n",
        "\t\treturn 2 * x\n",
        "\treturn inner\n",
        "\n",
        "@decor1\n",
        "@decor\n",
        "def num():\n",
        "\treturn 10\n",
        "\n",
        "print(num())\n"
      ],
      "metadata": {
        "id": "AF2z14fNYdxF"
      },
      "execution_count": null,
      "outputs": []
    }
  ]
}