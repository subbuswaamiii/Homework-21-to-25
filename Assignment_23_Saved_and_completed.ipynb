{
  "nbformat": 4,
  "nbformat_minor": 0,
  "metadata": {
    "colab": {
      "provenance": []
    },
    "kernelspec": {
      "name": "python3",
      "display_name": "Python 3"
    },
    "language_info": {
      "name": "python"
    }
  },
  "cells": [
    {
      "cell_type": "code",
      "execution_count": null,
      "metadata": {
        "id": "zM6ogQJYAByK"
      },
      "outputs": [],
      "source": []
    },
    {
      "cell_type": "markdown",
      "source": [
        "**ASSIGNMENT 23** "
      ],
      "metadata": {
        "id": "0jqPNz-VAzb-"
      }
    },
    {
      "cell_type": "markdown",
      "source": [
        "**1. What is the result of the code, and why?**\n",
        ">>> def func(a, b=6, c=8):\n",
        "print(a, b, c)\n",
        ">>> func(1, 2)\n"
      ],
      "metadata": {
        "id": "5-z3gkb_Af4j"
      }
    },
    {
      "cell_type": "code",
      "source": [
        "def func(a, b=6, c=8):\n",
        "  print(a, b, c)\n",
        "func(1, 2)"
      ],
      "metadata": {
        "colab": {
          "base_uri": "https://localhost:8080/"
        },
        "id": "fCtDf9pGA3x_",
        "outputId": "78763ee8-7cb0-4410-e74a-05ce4d5e4c0e"
      },
      "execution_count": null,
      "outputs": [
        {
          "output_type": "stream",
          "name": "stdout",
          "text": [
            "1 2 8\n"
          ]
        }
      ]
    },
    {
      "cell_type": "markdown",
      "source": [
        "In this code, func() is called with two values. In code defined function func() is having three arguments a, b = 6, c = 8 where b and c having integer values defined. \n",
        "\n",
        "while calling function func(), here we are defining two values , therefore interpreter passes these values in order to arguments a and b  ,\n",
        "\n",
        "hence value of arguments a become 1 and value of b become 2 .i.e. \n",
        "a =1 , b =2. the value of argument c is laready predefined which is equal to 8 , hence c =8.\n",
        "\n",
        "**Output is** \n",
        "\n",
        "\n",
        "**1 2 8**\n",
        "\n",
        "\n",
        "\n",
        "\n",
        "\n",
        "\n",
        "\n",
        "\n",
        "************************************************************************************************************************************************************************************************************************************************************************************************************************************"
      ],
      "metadata": {
        "id": "ef3SqZsWEc-w"
      }
    },
    {
      "cell_type": "markdown",
      "source": [
        "**2. What is the result of this code, and why?**\n",
        ">>> def func(a, b, c=5):\n",
        "print(a, b, c)\n",
        ">>> func(1, c=3, b=2)\n",
        "\n"
      ],
      "metadata": {
        "id": "xuNy3xLyAhMk"
      }
    },
    {
      "cell_type": "code",
      "source": [
        "def func(a, b, c=5):\n",
        "    print(a, b, c)\n",
        "func(1, c=3, b=2)"
      ],
      "metadata": {
        "colab": {
          "base_uri": "https://localhost:8080/"
        },
        "id": "Ty8S5R98BCMm",
        "outputId": "9c245918-49aa-4f18-e887-fc2f49bf5744"
      },
      "execution_count": null,
      "outputs": [
        {
          "output_type": "stream",
          "name": "stdout",
          "text": [
            "1 2 3\n"
          ]
        }
      ]
    },
    {
      "cell_type": "markdown",
      "source": [
        "In this code, func() is called with two values. In code defined function func() is having three arguments a, b , c = 5 where c having integer values defined. \n",
        "\n",
        "while calling function func(), here we are defining three values , therefore interpreter passes these values in order to arguments a and b ,c.\n",
        "\n",
        "hence value of arguments a become 1 and value of b become 2 and value of c become 3 .i.e. \n",
        "a =1 , b =2 , c =3. \n",
        "\n",
        "**Output is** \n",
        "\n",
        "\n",
        "**1 2 3**\n",
        "\n",
        "\n",
        "\n",
        "\n",
        "\n",
        "\n",
        "\n",
        "\n",
        "************************************************************************************************************************************************************************************************************************************************************************************************************************************"
      ],
      "metadata": {
        "id": "Z9scFK4DGkus"
      }
    },
    {
      "cell_type": "code",
      "source": [],
      "metadata": {
        "id": "Je8OAWY2GaAE"
      },
      "execution_count": null,
      "outputs": []
    },
    {
      "cell_type": "markdown",
      "source": [
        "**3. How about this code: what is its result, and why?**\n",
        ">>> def func(a, *pargs):\n",
        "print(a, pargs)\n",
        ">>> func(1, 2, 3)\n"
      ],
      "metadata": {
        "id": "IaDSaEW1Ahbx"
      }
    },
    {
      "cell_type": "code",
      "source": [
        "def func(a, *pargs):\n",
        "\n",
        "    print(a, pargs)\n",
        "func(1, 2, 3)"
      ],
      "metadata": {
        "colab": {
          "base_uri": "https://localhost:8080/"
        },
        "id": "chrbtTs9BCxT",
        "outputId": "10f50706-0856-4e44-fd6d-ce53d7bb1c69"
      },
      "execution_count": null,
      "outputs": [
        {
          "output_type": "stream",
          "name": "stdout",
          "text": [
            "1 (2, 3)\n"
          ]
        }
      ]
    },
    {
      "cell_type": "code",
      "source": [
        "def func(a, *pargs):\n",
        "\n",
        "    print(a, pargs)\n",
        "func(1, 2, 3,4,5,6,7,8,9,10)"
      ],
      "metadata": {
        "colab": {
          "base_uri": "https://localhost:8080/"
        },
        "id": "LSBvhZBYaRFU",
        "outputId": "08825e35-b980-4f8f-91d5-5276596f6291"
      },
      "execution_count": null,
      "outputs": [
        {
          "output_type": "stream",
          "name": "stdout",
          "text": [
            "1 (2, 3, 4, 5, 6, 7, 8, 9, 10)\n"
          ]
        }
      ]
    },
    {
      "cell_type": "code",
      "source": [
        "def func(*pargs):\n",
        "\n",
        "    print(pargs)\n",
        "func(1, 2, 3)"
      ],
      "metadata": {
        "colab": {
          "base_uri": "https://localhost:8080/"
        },
        "id": "kt41K4qsYiGj",
        "outputId": "495aa24a-2032-44f8-fbb9-4c1d812732bb"
      },
      "execution_count": null,
      "outputs": [
        {
          "output_type": "stream",
          "name": "stdout",
          "text": [
            "(1, 2, 3)\n"
          ]
        }
      ]
    },
    {
      "cell_type": "code",
      "source": [
        "def func(*pargs):\n",
        "  for i in pargs:\n",
        "    print(i)\n",
        "func(1, 2, 3)"
      ],
      "metadata": {
        "colab": {
          "base_uri": "https://localhost:8080/"
        },
        "id": "NP00HJ2vZGvd",
        "outputId": "be98e213-1bf3-4f63-feeb-aa61d5a4e3a2"
      },
      "execution_count": null,
      "outputs": [
        {
          "output_type": "stream",
          "name": "stdout",
          "text": [
            "1\n",
            "2\n",
            "3\n"
          ]
        }
      ]
    },
    {
      "cell_type": "code",
      "source": [
        "def func(a, *pargs):\n",
        "  for i in pargs:\n",
        "    print(i)\n",
        "\n",
        "    \n",
        "func(1, 2, 3)"
      ],
      "metadata": {
        "colab": {
          "base_uri": "https://localhost:8080/"
        },
        "id": "TmFKjvN1ZRfM",
        "outputId": "09f82c32-3cdf-4a18-e5f9-a93f1101b4f5"
      },
      "execution_count": null,
      "outputs": [
        {
          "output_type": "stream",
          "name": "stdout",
          "text": [
            "2\n",
            "3\n"
          ]
        }
      ]
    },
    {
      "cell_type": "markdown",
      "source": [
        "In this code, func() is called with three values 1,2,3. \n",
        "\n",
        "In code defined function func() is having two arguments a and *pargs which is nonkeyword argument which takes any number of variable numbers as arguments. \n",
        "\n",
        "Here a argument takes value 1 and *parges takes all available remaining numbers 2 and 3\n",
        "\n",
        "**Output is** \n",
        "\n",
        "\n",
        "**1 (2, 3)**\n",
        "\n",
        "\n",
        "\n",
        "\n",
        "\n",
        "\n",
        "\n",
        "\n",
        "************************************************************************************************************************************************************************************************************************************************************************************************************************************"
      ],
      "metadata": {
        "id": "5QYpYpRCX_62"
      }
    },
    {
      "cell_type": "markdown",
      "source": [
        "**4. What does this code print, and why?**\n",
        ">>> def func(a, **kargs):\n",
        "print(a, kargs)\n",
        ">>> func(a=1, c=3, b=2)\n"
      ],
      "metadata": {
        "id": "FL2xM_n0Ahno"
      }
    },
    {
      "cell_type": "code",
      "source": [
        "def func(a, **kargs):\n",
        "  print(a, kargs)\n",
        "func(a=1, c=3, b=2)"
      ],
      "metadata": {
        "id": "TsOE-1JHBDYo",
        "colab": {
          "base_uri": "https://localhost:8080/"
        },
        "outputId": "0a1eb030-faae-4b71-dc1b-76f0dfd5ed45"
      },
      "execution_count": null,
      "outputs": [
        {
          "output_type": "stream",
          "name": "stdout",
          "text": [
            "1 {'c': 3, 'b': 2}\n"
          ]
        }
      ]
    },
    {
      "cell_type": "markdown",
      "source": [
        "In this code, func() is called with three arguments with assigning values a=1, c=3, b=2. \n",
        "\n",
        "In code defined function func() is having two arguments a and *kargs which is keyword argument being a dictionary key-value pair hence arguments passes through function acts as key and valu or number assigned to those arguments acts as value.\n",
        "\n",
        "Here a argument takes value 1 and *kargs takes all available remaining c=3, b=2 in key-value format\n",
        "\n",
        "**Output is** \n",
        "\n",
        "\n",
        "**1 {'c': 3, 'b': 2}**\n",
        "\n",
        "\n",
        "\n",
        "\n",
        "\n",
        "\n",
        "\n",
        "\n",
        "************************************************************************************************************************************************************************************************************************************************************************************************************************************"
      ],
      "metadata": {
        "id": "euaxtqmUatWu"
      }
    },
    {
      "cell_type": "markdown",
      "source": [
        "**5. What gets printed by this, and explain?**\n",
        ">>> def func(a, b, c=8, d=5): print(a, b, c, d)\n",
        ">>> func(1, *(5, 6))\n"
      ],
      "metadata": {
        "id": "tHmuvOQGAh0S"
      }
    },
    {
      "cell_type": "code",
      "source": [
        "def func(a, b, c=8, d=5): \n",
        "  print(a, b, c, d)\n",
        "func(1, *(5, 6))"
      ],
      "metadata": {
        "id": "wFowh63JBD1R",
        "colab": {
          "base_uri": "https://localhost:8080/"
        },
        "outputId": "53d9d885-473e-4d4a-80d1-602d6ba52311"
      },
      "execution_count": null,
      "outputs": [
        {
          "output_type": "stream",
          "name": "stdout",
          "text": [
            "1 5 6 5\n"
          ]
        }
      ]
    },
    {
      "cell_type": "code",
      "source": [
        "def func(a, b, c=8, d=5): \n",
        "  print(a, b, c, d)\n",
        "func(1, *(5, 6,7))"
      ],
      "metadata": {
        "colab": {
          "base_uri": "https://localhost:8080/"
        },
        "id": "5LiqFiOMUHCI",
        "outputId": "e1f8e3ae-247b-41ff-bb70-2526b69f9bee"
      },
      "execution_count": null,
      "outputs": [
        {
          "output_type": "stream",
          "name": "stdout",
          "text": [
            "1 5 6 7\n"
          ]
        }
      ]
    },
    {
      "cell_type": "code",
      "source": [
        "def func(a, b, c=8, d=5): \n",
        "  print(a, b, c, d)\n",
        "func(1, *(5, 6, 7, 10))"
      ],
      "metadata": {
        "colab": {
          "base_uri": "https://localhost:8080/",
          "height": 200
        },
        "id": "lrXmFVqiUPUQ",
        "outputId": "652d9d0c-71dc-42a4-f033-b41eced74686"
      },
      "execution_count": null,
      "outputs": [
        {
          "output_type": "error",
          "ename": "TypeError",
          "evalue": "ignored",
          "traceback": [
            "\u001b[0;31m---------------------------------------------------------------------------\u001b[0m",
            "\u001b[0;31mTypeError\u001b[0m                                 Traceback (most recent call last)",
            "\u001b[0;32m<ipython-input-2-acc58bede531>\u001b[0m in \u001b[0;36m<module>\u001b[0;34m\u001b[0m\n\u001b[1;32m      1\u001b[0m \u001b[0;32mdef\u001b[0m \u001b[0mfunc\u001b[0m\u001b[0;34m(\u001b[0m\u001b[0ma\u001b[0m\u001b[0;34m,\u001b[0m \u001b[0mb\u001b[0m\u001b[0;34m,\u001b[0m \u001b[0mc\u001b[0m\u001b[0;34m=\u001b[0m\u001b[0;36m8\u001b[0m\u001b[0;34m,\u001b[0m \u001b[0md\u001b[0m\u001b[0;34m=\u001b[0m\u001b[0;36m5\u001b[0m\u001b[0;34m)\u001b[0m\u001b[0;34m:\u001b[0m\u001b[0;34m\u001b[0m\u001b[0;34m\u001b[0m\u001b[0m\n\u001b[1;32m      2\u001b[0m   \u001b[0mprint\u001b[0m\u001b[0;34m(\u001b[0m\u001b[0ma\u001b[0m\u001b[0;34m,\u001b[0m \u001b[0mb\u001b[0m\u001b[0;34m,\u001b[0m \u001b[0mc\u001b[0m\u001b[0;34m,\u001b[0m \u001b[0md\u001b[0m\u001b[0;34m)\u001b[0m\u001b[0;34m\u001b[0m\u001b[0;34m\u001b[0m\u001b[0m\n\u001b[0;32m----> 3\u001b[0;31m \u001b[0mfunc\u001b[0m\u001b[0;34m(\u001b[0m\u001b[0;36m1\u001b[0m\u001b[0;34m,\u001b[0m \u001b[0;34m*\u001b[0m\u001b[0;34m(\u001b[0m\u001b[0;36m5\u001b[0m\u001b[0;34m,\u001b[0m \u001b[0;36m6\u001b[0m\u001b[0;34m,\u001b[0m \u001b[0;36m7\u001b[0m\u001b[0;34m,\u001b[0m \u001b[0;36m10\u001b[0m\u001b[0;34m)\u001b[0m\u001b[0;34m)\u001b[0m\u001b[0;34m\u001b[0m\u001b[0;34m\u001b[0m\u001b[0m\n\u001b[0m",
            "\u001b[0;31mTypeError\u001b[0m: func() takes from 2 to 4 positional arguments but 5 were given"
          ]
        }
      ]
    },
    {
      "cell_type": "markdown",
      "source": [
        "In defined function, 4 arguments are declared, some arguments assigned with integer values\n",
        "a,b, c =8, d=5\n",
        "\n",
        "\n",
        "\n",
        "When func() calling with (1,*(5,6)), it means 1 will be assigned to argument a = 1, and *(5,6) is tuple of two values. these values will be assigned to b and c on order basis ie. b = 5 and c =6. The new value for d is not assigned during call function, hence it will take d = 5"
      ],
      "metadata": {
        "id": "KMJMUOPSrEBx"
      }
    },
    {
      "cell_type": "markdown",
      "source": [
        "**6. what is the result of this, and explain?**\n",
        ">>> def func(a, b, c): a = 2; b[0] = 'x'; c['a'] = 'y'\n",
        ">>> l=1; m=[1]; n={'a':0}\n",
        ">>> func(l, m, n)\n",
        ">>> l, m, n\n"
      ],
      "metadata": {
        "id": "78KeqmSQAiAa"
      }
    },
    {
      "cell_type": "code",
      "source": [
        "def func(a, b, c):\n",
        "  a = 2; b[0] = 'x'; c['a'] = 'y';\n",
        "l=1; m=[1]; n={'a':0}\n",
        "func(l, m, n)\n",
        "l, m, n"
      ],
      "metadata": {
        "id": "khtkrNWTBEYH",
        "colab": {
          "base_uri": "https://localhost:8080/"
        },
        "outputId": "4444dc45-8d59-471d-d9a1-dd5916e9aaff"
      },
      "execution_count": null,
      "outputs": [
        {
          "output_type": "execute_result",
          "data": {
            "text/plain": [
              "(1, ['x'], {'a': 'y'})"
            ]
          },
          "metadata": {},
          "execution_count": 16
        }
      ]
    },
    {
      "cell_type": "markdown",
      "source": [
        "After calling function  func(l,m,n) ,\n",
        "\n",
        "def func(a, b, c): \n",
        "\n",
        "then l=1; m=[1]; n={'a':0}\n",
        "\n",
        "\n",
        "Therefore values of a,b,c will be \n",
        "a=1; b=[1]; c={'a':0}\n",
        "\n",
        "Then\n",
        "a = 2; b[0] = 'x'; c['a'] = 'y'\n",
        "\n",
        "Then\n",
        "\n",
        "l, m, n \n",
        "\n",
        "Therefore values  of l,m,n will be \n",
        "l=1,m=['x'],  n={'a':'y'}"
      ],
      "metadata": {
        "id": "lMsCLG0vt-Kg"
      }
    },
    {
      "cell_type": "code",
      "source": [],
      "metadata": {
        "id": "LJUNYUx6LNf3"
      },
      "execution_count": null,
      "outputs": []
    }
  ]
}